{
  "nbformat": 4,
  "nbformat_minor": 0,
  "metadata": {
    "colab": {
      "name": "q3.ipynb",
      "provenance": []
    },
    "kernelspec": {
      "name": "python3",
      "display_name": "Python 3"
    }
  },
  "cells": [
    {
      "cell_type": "code",
      "metadata": {
        "id": "Ln5mpgahzsHv"
      },
      "source": [
        "import numpy as np\n",
        "import os\n",
        "import time"
      ],
      "execution_count": 20,
      "outputs": []
    },
    {
      "cell_type": "code",
      "metadata": {
        "colab": {
          "base_uri": "https://localhost:8080/"
        },
        "id": "lwTSBpLz4T_y",
        "outputId": "9d204ea1-2ca2-4b33-9b69-3cc05d6661b0"
      },
      "source": [
        "n = 100\n",
        "min = 0\n",
        "max = 50\n",
        "array = np.random.randint(min, max, (n))\n",
        "array"
      ],
      "execution_count": 22,
      "outputs": [
        {
          "output_type": "execute_result",
          "data": {
            "text/plain": [
              "array([30, 38, 49, 38, 24,  2,  8, 11, 27, 41, 43, 24, 32, 30, 17, 17, 31,\n",
              "        1, 33,  1, 46, 30, 13, 29, 48,  7,  7, 28, 47, 16, 16,  9, 17,  8,\n",
              "       44, 12,  6,  3, 25, 31, 17, 15, 20,  1, 22,  3, 38, 38, 32, 43, 18,\n",
              "       11, 42, 42, 15, 27, 41, 30, 12,  3, 47, 22, 18, 43, 26, 44, 30, 46,\n",
              "       13, 44, 10,  6, 36, 35, 46, 39,  5, 44, 35, 14, 24,  4,  8, 45, 29,\n",
              "       13, 20, 12, 15, 17, 16, 31,  6, 25, 13, 24, 28, 34, 14, 34])"
            ]
          },
          "metadata": {
            "tags": []
          },
          "execution_count": 22
        }
      ]
    },
    {
      "cell_type": "code",
      "metadata": {
        "colab": {
          "base_uri": "https://localhost:8080/"
        },
        "id": "ye-tyuaB4doB",
        "outputId": "1316334f-d029-4a3a-8e2e-580794507920"
      },
      "source": [
        "sum = 0\n",
        "start = time.time()\n",
        "for i in range(n):\n",
        "  sum += array[i]\n",
        "\n",
        "end = time.time()\n",
        "print(sum)\n",
        "print('time taken: ', end - start)"
      ],
      "execution_count": 23,
      "outputs": [
        {
          "output_type": "stream",
          "text": [
            "2424\n",
            "time taken:  0.0001583099365234375\n"
          ],
          "name": "stdout"
        }
      ]
    },
    {
      "cell_type": "code",
      "metadata": {
        "id": "362L816i4sRi"
      },
      "source": [
        ""
      ],
      "execution_count": null,
      "outputs": []
    }
  ]
}