{
  "nbformat": 4,
  "nbformat_minor": 0,
  "metadata": {
    "colab": {
      "name": "q1.ipynb",
      "provenance": []
    },
    "kernelspec": {
      "name": "python3",
      "display_name": "Python 3"
    }
  },
  "cells": [
    {
      "cell_type": "code",
      "metadata": {
        "id": "Ln5mpgahzsHv"
      },
      "source": [
        "import numpy as np\n",
        "import os\n",
        "import time"
      ],
      "execution_count": 20,
      "outputs": []
    },
    {
      "cell_type": "code",
      "metadata": {
        "colab": {
          "base_uri": "https://localhost:8080/"
        },
        "id": "lwLpMEFK4Sxk",
        "outputId": "3930ee19-e759-4b44-c814-d89a187ad770"
      },
      "source": [
        "#q1\n",
        "n = 5\n",
        "A = np.random.randint(min,max,(n,n))\n",
        "B = np.random.randint(min,max,(n,n))\n",
        "\n",
        "C = [[0 for i in range(n)] for i in range(n)]\n",
        "\n",
        "def task(n, A, B, C):\n",
        "    for i in range(n):  \n",
        "        for j in range(n):\n",
        "            for k in range(n):\n",
        "                C[i][j] += A[i][k] * B[k][j]\n",
        "    return C\n",
        "\n",
        "start1 = time.time()\n",
        "C = task(n, A, B, C)\n",
        "end1 = time.time()\n",
        "print('time taken: ', end1 - start1)\n",
        "C"
      ],
      "execution_count": 21,
      "outputs": [
        {
          "output_type": "stream",
          "text": [
            "time taken:  0.0003306865692138672\n"
          ],
          "name": "stdout"
        },
        {
          "output_type": "execute_result",
          "data": {
            "text/plain": [
              "[[2342, 2416, 3212, 2670, 2540],\n",
              " [2657, 1402, 3974, 2445, 1786],\n",
              " [4399, 3498, 5342, 4102, 4386],\n",
              " [3147, 2900, 3634, 2975, 3176],\n",
              " [3724, 2837, 4795, 3048, 3689]]"
            ]
          },
          "metadata": {
            "tags": []
          },
          "execution_count": 21
        }
      ]
    },
    {
      "cell_type": "code",
      "metadata": {
        "id": "lwTSBpLz4T_y"
      },
      "source": [
        ""
      ],
      "execution_count": null,
      "outputs": []
    }
  ]
}