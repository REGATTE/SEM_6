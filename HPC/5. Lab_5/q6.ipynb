{
  "nbformat": 4,
  "nbformat_minor": 0,
  "metadata": {
    "colab": {
      "name": "q6.ipynb",
      "provenance": []
    },
    "kernelspec": {
      "name": "python3",
      "display_name": "Python 3"
    }
  },
  "cells": [
    {
      "cell_type": "code",
      "metadata": {
        "id": "Ln5mpgahzsHv"
      },
      "source": [
        "import numpy as np\n",
        "import os\n",
        "import time\n"
      ],
      "execution_count": 26,
      "outputs": []
    },
    {
      "cell_type": "code",
      "metadata": {
        "id": "sKgftNcB7IFF"
      },
      "source": [
        "def plaindrome(word):\n",
        "  flag = 0\n",
        "  if(word == word[::-1]):\n",
        "    flag = 1\n",
        "  else:\n",
        "    flag = 0\n",
        "\n",
        "  return flag"
      ],
      "execution_count": 28,
      "outputs": []
    },
    {
      "cell_type": "code",
      "metadata": {
        "colab": {
          "base_uri": "https://localhost:8080/"
        },
        "id": "6JVovrfW7XWq",
        "outputId": "f4af591c-1dae-4262-ae3a-767b5e0184b8"
      },
      "source": [
        "!wget --no-check-certificate \"https://raw.githubusercontent.com/dwyl/english-words/master/words.txt\""
      ],
      "execution_count": 29,
      "outputs": [
        {
          "output_type": "stream",
          "text": [
            "--2021-02-12 11:10:27--  https://raw.githubusercontent.com/dwyl/english-words/master/words.txt\n",
            "Resolving raw.githubusercontent.com (raw.githubusercontent.com)... 185.199.110.133, 185.199.109.133, 185.199.111.133, ...\n",
            "Connecting to raw.githubusercontent.com (raw.githubusercontent.com)|185.199.110.133|:443... connected.\n",
            "HTTP request sent, awaiting response... 200 OK\n",
            "Length: 4862992 (4.6M) [text/plain]\n",
            "Saving to: ‘words.txt’\n",
            "\n",
            "words.txt           100%[===================>]   4.64M  --.-KB/s    in 0.1s    \n",
            "\n",
            "2021-02-12 11:10:28 (41.8 MB/s) - ‘words.txt’ saved [4862992/4862992]\n",
            "\n"
          ],
          "name": "stdout"
        }
      ]
    },
    {
      "cell_type": "code",
      "metadata": {
        "colab": {
          "base_uri": "https://localhost:8080/"
        },
        "id": "muuepzj571jd",
        "outputId": "b35bbac3-fb53-4a09-a249-6a4a01d50b38"
      },
      "source": [
        "data = open(\"/content/words.txt\", 'r')\n",
        "arr = []\n",
        "for i in data:\n",
        "  arr.append(i.strip('\\n'))\n",
        "\n",
        "result = []\n",
        "\n",
        "start = time.time()\n",
        "for i in arr:\n",
        "  if(plaindrome(i) == 1):\n",
        "    result.append(i)\n",
        "  else:\n",
        "    continue\n",
        "end = time.time()\n",
        "\n",
        "result\n",
        "print('time = ', end - start)"
      ],
      "execution_count": 30,
      "outputs": [
        {
          "output_type": "stream",
          "text": [
            "time =  0.12092375755310059\n"
          ],
          "name": "stdout"
        }
      ]
    },
    {
      "cell_type": "code",
      "metadata": {
        "id": "gOuO51bA8aJk"
      },
      "source": [
        ""
      ],
      "execution_count": null,
      "outputs": []
    }
  ]
}