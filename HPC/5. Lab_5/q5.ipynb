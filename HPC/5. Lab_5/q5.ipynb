{
  "nbformat": 4,
  "nbformat_minor": 0,
  "metadata": {
    "colab": {
      "name": "Untitled9.ipynb",
      "provenance": []
    },
    "kernelspec": {
      "name": "python3",
      "display_name": "Python 3"
    }
  },
  "cells": [
    {
      "cell_type": "code",
      "metadata": {
        "id": "jrIsJ44MmFdk"
      },
      "source": [
        "import numpy as np\n",
        "import threading\n",
        "import os\n",
        "import time\n",
        "import multiprocessing\n",
        "import cv2\n",
        "import matplotlib.pyplot as plt"
      ],
      "execution_count": 1,
      "outputs": []
    },
    {
      "cell_type": "code",
      "metadata": {
        "colab": {
          "base_uri": "https://localhost:8080/"
        },
        "id": "eH36rLGrmG_j",
        "outputId": "d06ed733-9343-48b0-96ba-d861b274b543"
      },
      "source": [
        "n = 6\n",
        "min = 0\n",
        "max = 1000\n",
        "\n",
        "arr = np.random.randint(min, max, (n))\n",
        "\n",
        "power_set = []\n",
        "start = time.time()\n",
        "\n",
        "def prime(n):\n",
        "    flag = True\n",
        "    for i in range(2,n//2):\n",
        "        if(n%i==0):\n",
        "            flag = False\n",
        "            break\n",
        "    \n",
        "    if(flag):\n",
        "        return n\n",
        "    \n",
        "    else:\n",
        "        return 0\n",
        "        \n",
        "x = len(arr)\n",
        "for i in range(1 << x):\n",
        "    power_set.append([arr[j] for j in range(x) if (i & (1 << j))])\n",
        "\n",
        "def primePowerSet(power_set):\n",
        "    prime_subsets = []\n",
        "\n",
        "    for i in range(len(power_set)):\n",
        "        if(prime(sum(power_set[i])) == 0):\n",
        "            continue\n",
        "\n",
        "        else:\n",
        "            prime_subsets.append(power_set[i])\n",
        "    \n",
        "    return prime_subsets\n",
        "prime_subsets = primePowerSet(power_set)\n",
        "end = time.time()\n",
        "\n",
        "time_serial = end-start\n",
        "print(\"Time: \", time_serial)\n",
        "\n",
        "prime_subsets"
      ],
      "execution_count": 3,
      "outputs": [
        {
          "output_type": "stream",
          "text": [
            "Time:  0.004040956497192383\n"
          ],
          "name": "stdout"
        },
        {
          "output_type": "execute_result",
          "data": {
            "text/plain": [
              "[[719],\n",
              " [787],\n",
              " [719, 787, 473],\n",
              " [73],\n",
              " [719, 787, 73],\n",
              " [719, 473, 795],\n",
              " [719, 473, 741],\n",
              " [787, 73, 741],\n",
              " [73, 795, 741],\n",
              " [719, 473, 73, 795, 741]]"
            ]
          },
          "metadata": {
            "tags": []
          },
          "execution_count": 3
        }
      ]
    },
    {
      "cell_type": "code",
      "metadata": {
        "id": "hQ9JFRX7mTjA"
      },
      "source": [
        ""
      ],
      "execution_count": null,
      "outputs": []
    }
  ]
}