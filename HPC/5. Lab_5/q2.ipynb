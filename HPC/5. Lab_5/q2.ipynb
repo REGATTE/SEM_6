{
  "nbformat": 4,
  "nbformat_minor": 0,
  "metadata": {
    "colab": {
      "name": "q2.ipynb",
      "provenance": []
    },
    "kernelspec": {
      "name": "python3",
      "display_name": "Python 3"
    }
  },
  "cells": [
    {
      "cell_type": "code",
      "metadata": {
        "id": "Ln5mpgahzsHv"
      },
      "source": [
        "import numpy as np\n",
        "import os\n",
        "import time"
      ],
      "execution_count": 5,
      "outputs": []
    },
    {
      "cell_type": "code",
      "metadata": {
        "colab": {
          "base_uri": "https://localhost:8080/"
        },
        "id": "saNoxrKHz6pF",
        "outputId": "3152b9d6-ceee-47d1-d019-3bf4dc8f8736"
      },
      "source": [
        "#Q2\n",
        "n = 100\n",
        "min = 0\n",
        "max = 50\n",
        "array = np.random.randint(min, max, (n))\n",
        "array"
      ],
      "execution_count": 18,
      "outputs": [
        {
          "output_type": "execute_result",
          "data": {
            "text/plain": [
              "array([ 5, 49, 11, 43, 19,  7, 15, 38, 22, 28, 21, 21, 23, 25, 49, 21, 19,\n",
              "       19, 39, 43, 35,  2, 36, 19, 42,  9, 33, 29, 32, 42, 23,  9, 44, 17,\n",
              "       14,  2,  3,  2, 20,  1, 36, 33, 10,  0, 11, 40, 17, 17,  7, 42,  3,\n",
              "       13,  4,  4, 15, 28, 14, 21, 44, 31,  7, 16, 43, 22, 15, 27,  7,  5,\n",
              "        7,  4, 10, 17, 28, 48, 22, 43, 39, 33, 16, 46, 27,  2, 18,  5, 26,\n",
              "       18, 12, 24, 36,  8, 32, 48, 19, 15, 41, 27, 30, 41, 15, 16])"
            ]
          },
          "metadata": {
            "tags": []
          },
          "execution_count": 18
        }
      ]
    },
    {
      "cell_type": "code",
      "metadata": {
        "colab": {
          "base_uri": "https://localhost:8080/"
        },
        "id": "vSHg8kCH0Wot",
        "outputId": "a70c1984-cc54-4286-ce4a-d43354720dee"
      },
      "source": [
        "random_number_to_search = np.random.randint(min, max)\n",
        "random_number_to_search"
      ],
      "execution_count": 8,
      "outputs": [
        {
          "output_type": "execute_result",
          "data": {
            "text/plain": [
              "27"
            ]
          },
          "metadata": {
            "tags": []
          },
          "execution_count": 8
        }
      ]
    },
    {
      "cell_type": "code",
      "metadata": {
        "colab": {
          "base_uri": "https://localhost:8080/"
        },
        "id": "QTerb1gD0fut",
        "outputId": "91b58c51-2cef-45ea-aa6d-f8c9eed3d59d"
      },
      "source": [
        "start = time.time()\n",
        "for i in range(n):\n",
        "  if(array[i] == random_number_to_search):\n",
        "    print(\"Search: {}\\nIndex: {}\".format(random_number_to_search, i))\n",
        "    break\n",
        "end = time.time()\n",
        "print(\"time taken :\", end - start)"
      ],
      "execution_count": 10,
      "outputs": [
        {
          "output_type": "stream",
          "text": [
            "Search: 27\n",
            "Index: 27\n",
            "time taken : 0.006011486053466797\n"
          ],
          "name": "stdout"
        }
      ]
    }
  ]
}