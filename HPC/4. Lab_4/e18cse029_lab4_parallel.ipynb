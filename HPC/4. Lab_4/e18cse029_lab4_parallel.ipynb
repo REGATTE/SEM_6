{
  "nbformat": 4,
  "nbformat_minor": 0,
  "metadata": {
    "colab": {
      "name": "Untitled7.ipynb",
      "provenance": []
    },
    "kernelspec": {
      "name": "python3",
      "display_name": "Python 3"
    }
  },
  "cells": [
    {
      "cell_type": "markdown",
      "metadata": {
        "id": "QQBJkB8eo1Sc"
      },
      "source": [
        "ASHOK KUMAR\n",
        "E18CSE029"
      ]
    },
    {
      "cell_type": "code",
      "metadata": {
        "colab": {
          "base_uri": "https://localhost:8080/"
        },
        "id": "dnx1D-jBo0p-",
        "outputId": "cafc446c-b754-40e7-de7c-4c8f2d38036f"
      },
      "source": [
        "!wget --no-check-certificate \"https://raw.githubusercontent.com/dwyl/english-words/master/words.txt\""
      ],
      "execution_count": null,
      "outputs": [
        {
          "output_type": "stream",
          "text": [
            "--2021-02-07 15:38:55--  https://raw.githubusercontent.com/dwyl/english-words/master/words.txt\n",
            "Resolving raw.githubusercontent.com (raw.githubusercontent.com)... 151.101.0.133, 151.101.64.133, 151.101.128.133, ...\n",
            "Connecting to raw.githubusercontent.com (raw.githubusercontent.com)|151.101.0.133|:443... connected.\n",
            "HTTP request sent, awaiting response... 200 OK\n",
            "Length: 4862992 (4.6M) [text/plain]\n",
            "Saving to: ‘words.txt’\n",
            "\n",
            "words.txt           100%[===================>]   4.64M  13.1MB/s    in 0.4s    \n",
            "\n",
            "2021-02-07 15:38:55 (13.1 MB/s) - ‘words.txt’ saved [4862992/4862992]\n",
            "\n"
          ],
          "name": "stdout"
        }
      ]
    },
    {
      "cell_type": "code",
      "metadata": {
        "id": "PGwxEeDWs4cS"
      },
      "source": [
        "#only run this if you want to access the more than a 100,000 words\n",
        "!--NotebookApp.iopub_data_rate_limit=1.0e10"
      ],
      "execution_count": null,
      "outputs": []
    },
    {
      "cell_type": "code",
      "metadata": {
        "id": "STJjqULlpB3u"
      },
      "source": [
        "import pandas as pd\n",
        "\n",
        "with open(\"words.txt\", \"r\") as input:\n",
        "  data = input.readlines()\n",
        "\n",
        "data = [i.replace('/n',\" \") for i in data][0:10000]\n",
        "inputSet = [set(list(i)) for i in data]\n",
        "length = len(data)"
      ],
      "execution_count": null,
      "outputs": []
    },
    {
      "cell_type": "code",
      "metadata": {
        "id": "OK0urXn8L5BR"
      },
      "source": [
        "def clue1(inputSet):\n",
        "  clue1sums=[]\n",
        "  for i in range(len(inputSet)):\n",
        "    sum1 = 0\n",
        "    for j in range(i+1, len(inputSet)):\n",
        "      sum1 += len(inputSet[i].intesection(inputSet[j]))\n",
        "    clue1sums.append(sum1)\n",
        "  clue1 = [i[1] for i in sorted(zip(clue1sums, words))[::-1]]\n",
        "  return clue1"
      ],
      "execution_count": null,
      "outputs": []
    },
    {
      "cell_type": "code",
      "metadata": {
        "id": "7RCJIA5VM4Xz"
      },
      "source": [
        "def isVowel(ch):\n",
        "  return ch.upper() in ['A', 'E', 'I', \"O\", \"U\"]\n",
        "\n",
        "def countVowels(str):\n",
        "  c = 0\n",
        "  for i in range(len(str)):\n",
        "    if isVowel(str[i]):\n",
        "      c += 1\n",
        "  return c\n",
        "\n",
        "def clue2():\n",
        "  clue2counts = []\n",
        "  for i in range(len(data)):\n",
        "    clue2count.append(countVowels(data[i]))\n",
        "  clue2 = [i[1] for i in sorted(zip(clue2count, data))[::-1]]\n",
        "  return clue2"
      ],
      "execution_count": null,
      "outputs": []
    },
    {
      "cell_type": "code",
      "metadata": {
        "id": "TaHMbTrINQhz"
      },
      "source": [
        "def clue3():\n",
        "  clue3len = []\n",
        "  for i in range(len(data)):\n",
        "    clue3len.append(len(data[i]))\n",
        "  clue3 = [i[1] for i in sorted(zip(clue3len, data))[::-1]]\n",
        "  return clue3"
      ],
      "execution_count": 13,
      "outputs": []
    },
    {
      "cell_type": "code",
      "metadata": {
        "id": "AmAjDWMXNyhp"
      },
      "source": [
        "def scores1(clue, words, length):\n",
        "  scores=[]\n",
        "  for i in range(length):\n",
        "    score, flag = 0,0\n",
        "    for j in range(len(clue)):\n",
        "      if(words[i] == clue[j]):\n",
        "        flag=1\n",
        "        break\n",
        "    if(flag==1):\n",
        "      score = length - j\n",
        "    scores.appenf(score)\n",
        "  return scores\n",
        "\n",
        "from joblib import. Parallel, delayed\n"
      ],
      "execution_count": null,
      "outputs": []
    }
  ]
}