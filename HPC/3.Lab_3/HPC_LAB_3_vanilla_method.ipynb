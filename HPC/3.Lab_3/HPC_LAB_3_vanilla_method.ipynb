{
  "nbformat": 4,
  "nbformat_minor": 0,
  "metadata": {
    "colab": {
      "name": "HPC LAB 3 vanilla method.ipynb",
      "provenance": []
    },
    "kernelspec": {
      "name": "python3",
      "display_name": "Python 3"
    }
  },
  "cells": [
    {
      "cell_type": "markdown",
      "metadata": {
        "id": "luGgAvAanW7r"
      },
      "source": [
        "ASHOK KUMAR\n",
        "\n",
        "E18CSE029\n",
        "\n",
        "\n",
        "LAB 3"
      ]
    },
    {
      "cell_type": "code",
      "metadata": {
        "colab": {
          "base_uri": "https://localhost:8080/"
        },
        "id": "mmYdPKgXnTNL",
        "outputId": "fd59cea4-5c17-46b5-ad55-5dd19a9dbfcc"
      },
      "source": [
        "import pandas as pd\n",
        "df = pd.read_csv('/content/BitcoinHeistData.csv')\n",
        "df.info()\n",
        "df.shape"
      ],
      "execution_count": 31,
      "outputs": [
        {
          "output_type": "stream",
          "text": [
            "<class 'pandas.core.frame.DataFrame'>\n",
            "RangeIndex: 246470 entries, 0 to 246469\n",
            "Data columns (total 10 columns):\n",
            " #   Column     Non-Null Count   Dtype  \n",
            "---  ------     --------------   -----  \n",
            " 0   address    246470 non-null  object \n",
            " 1   year       246469 non-null  float64\n",
            " 2   day        246469 non-null  float64\n",
            " 3   length     246469 non-null  float64\n",
            " 4   weight     246469 non-null  float64\n",
            " 5   count      246469 non-null  float64\n",
            " 6   looped     246469 non-null  float64\n",
            " 7   neighbors  246469 non-null  float64\n",
            " 8   income     246469 non-null  float64\n",
            " 9   label      246469 non-null  object \n",
            "dtypes: float64(8), object(2)\n",
            "memory usage: 18.8+ MB\n"
          ],
          "name": "stdout"
        },
        {
          "output_type": "execute_result",
          "data": {
            "text/plain": [
              "(246470, 10)"
            ]
          },
          "metadata": {
            "tags": []
          },
          "execution_count": 31
        }
      ]
    },
    {
      "cell_type": "code",
      "metadata": {
        "colab": {
          "base_uri": "https://localhost:8080/"
        },
        "id": "-mFQWtgtoymZ",
        "outputId": "ac72f24f-de11-4885-c420-6c24c071b3f3"
      },
      "source": [
        "df.rename(columns={'count':'csv_count'},inplace=True)\n",
        "df.info()"
      ],
      "execution_count": 20,
      "outputs": [
        {
          "output_type": "stream",
          "text": [
            "<class 'pandas.core.frame.DataFrame'>\n",
            "RangeIndex: 246470 entries, 0 to 246469\n",
            "Data columns (total 10 columns):\n",
            " #   Column     Non-Null Count   Dtype  \n",
            "---  ------     --------------   -----  \n",
            " 0   address    246470 non-null  object \n",
            " 1   year       246469 non-null  float64\n",
            " 2   day        246469 non-null  float64\n",
            " 3   length     246469 non-null  float64\n",
            " 4   weight     246469 non-null  float64\n",
            " 5   csv_count  246469 non-null  float64\n",
            " 6   looped     246469 non-null  float64\n",
            " 7   neighbors  246469 non-null  float64\n",
            " 8   income     246469 non-null  float64\n",
            " 9   label      246469 non-null  object \n",
            "dtypes: float64(8), object(2)\n",
            "memory usage: 18.8+ MB\n"
          ],
          "name": "stdout"
        }
      ]
    },
    {
      "cell_type": "code",
      "metadata": {
        "colab": {
          "base_uri": "https://localhost:8080/"
        },
        "id": "mLyYK7Dtxj1j",
        "outputId": "4e4a5895-76c7-4dbd-b9a3-8a5c29f395c0"
      },
      "source": [
        "df.label.value_counts(normalize=True)*100\n",
        "#white : not associated with malware\n",
        "#everything other than white: associated with malware"
      ],
      "execution_count": 15,
      "outputs": [
        {
          "output_type": "execute_result",
          "data": {
            "text/plain": [
              "white                          83.197481\n",
              "paduaCryptoWall                 5.027001\n",
              "montrealCryptoLocker            3.779380\n",
              "princetonCerber                 3.742053\n",
              "princetonLocky                  2.687965\n",
              "montrealCryptXXX                0.981462\n",
              "montrealNoobCrypt               0.195968\n",
              "montrealDMALockerv3             0.143629\n",
              "montrealDMALocker               0.101838\n",
              "montrealSamSam                  0.025155\n",
              "montrealGlobeImposter           0.022315\n",
              "montrealCryptoTorLocker2015     0.022315\n",
              "montrealGlobev3                 0.013795\n",
              "montrealGlobe                   0.012983\n",
              "montrealWannaCry                0.011360\n",
              "montrealRazy                    0.005274\n",
              "montrealAPT                     0.004463\n",
              "paduaKeRanger                   0.004057\n",
              "montrealFlyper                  0.003652\n",
              "montrealXTPLocker               0.003246\n",
              "montrealVenusLocker             0.002840\n",
              "montrealCryptConsole            0.002840\n",
              "montrealXLockerv5.0             0.002840\n",
              "montrealEDA2                    0.002434\n",
              "montrealJigSaw                  0.001623\n",
              "paduaJigsaw                     0.000811\n",
              "montrealSam                     0.000406\n",
              "montrealComradeCircle           0.000406\n",
              "montrealXLocker                 0.000406\n",
              "Name: label, dtype: float64"
            ]
          },
          "metadata": {
            "tags": []
          },
          "execution_count": 15
        }
      ]
    },
    {
      "cell_type": "code",
      "metadata": {
        "colab": {
          "base_uri": "https://localhost:8080/",
          "height": 379
        },
        "id": "ZWYdUnf0yp3N",
        "outputId": "f4776aae-1151-4d21-800c-5a03e27e2250"
      },
      "source": [
        "df.head(10)"
      ],
      "execution_count": 18,
      "outputs": [
        {
          "output_type": "execute_result",
          "data": {
            "text/html": [
              "<div>\n",
              "<style scoped>\n",
              "    .dataframe tbody tr th:only-of-type {\n",
              "        vertical-align: middle;\n",
              "    }\n",
              "\n",
              "    .dataframe tbody tr th {\n",
              "        vertical-align: top;\n",
              "    }\n",
              "\n",
              "    .dataframe thead th {\n",
              "        text-align: right;\n",
              "    }\n",
              "</style>\n",
              "<table border=\"1\" class=\"dataframe\">\n",
              "  <thead>\n",
              "    <tr style=\"text-align: right;\">\n",
              "      <th></th>\n",
              "      <th>address</th>\n",
              "      <th>year</th>\n",
              "      <th>day</th>\n",
              "      <th>length</th>\n",
              "      <th>weight</th>\n",
              "      <th>csv_count</th>\n",
              "      <th>looped</th>\n",
              "      <th>neighbors</th>\n",
              "      <th>income</th>\n",
              "      <th>label</th>\n",
              "    </tr>\n",
              "  </thead>\n",
              "  <tbody>\n",
              "    <tr>\n",
              "      <th>0</th>\n",
              "      <td>111K8kZAEnJg245r2cM6y9zgJGHZtJPy6</td>\n",
              "      <td>2017.0</td>\n",
              "      <td>11.0</td>\n",
              "      <td>18.0</td>\n",
              "      <td>8.333333e-03</td>\n",
              "      <td>1.0</td>\n",
              "      <td>0.0</td>\n",
              "      <td>2.0</td>\n",
              "      <td>100050000.0</td>\n",
              "      <td>princetonCerber</td>\n",
              "    </tr>\n",
              "    <tr>\n",
              "      <th>1</th>\n",
              "      <td>1123pJv8jzeFQaCV4w644pzQJzVWay2zcA</td>\n",
              "      <td>2016.0</td>\n",
              "      <td>132.0</td>\n",
              "      <td>44.0</td>\n",
              "      <td>2.441406e-04</td>\n",
              "      <td>1.0</td>\n",
              "      <td>0.0</td>\n",
              "      <td>1.0</td>\n",
              "      <td>100000000.0</td>\n",
              "      <td>princetonLocky</td>\n",
              "    </tr>\n",
              "    <tr>\n",
              "      <th>2</th>\n",
              "      <td>112536im7hy6wtKbpH1qYDWtTyMRAcA2p7</td>\n",
              "      <td>2016.0</td>\n",
              "      <td>246.0</td>\n",
              "      <td>0.0</td>\n",
              "      <td>1.000000e+00</td>\n",
              "      <td>1.0</td>\n",
              "      <td>0.0</td>\n",
              "      <td>2.0</td>\n",
              "      <td>200000000.0</td>\n",
              "      <td>princetonCerber</td>\n",
              "    </tr>\n",
              "    <tr>\n",
              "      <th>3</th>\n",
              "      <td>1126eDRw2wqSkWosjTCre8cjjQW8sSeWH7</td>\n",
              "      <td>2016.0</td>\n",
              "      <td>322.0</td>\n",
              "      <td>72.0</td>\n",
              "      <td>3.906250e-03</td>\n",
              "      <td>1.0</td>\n",
              "      <td>0.0</td>\n",
              "      <td>2.0</td>\n",
              "      <td>71200000.0</td>\n",
              "      <td>princetonCerber</td>\n",
              "    </tr>\n",
              "    <tr>\n",
              "      <th>4</th>\n",
              "      <td>1129TSjKtx65E35GiUo4AYVeyo48twbrGX</td>\n",
              "      <td>2016.0</td>\n",
              "      <td>238.0</td>\n",
              "      <td>144.0</td>\n",
              "      <td>7.284841e-02</td>\n",
              "      <td>456.0</td>\n",
              "      <td>0.0</td>\n",
              "      <td>1.0</td>\n",
              "      <td>200000000.0</td>\n",
              "      <td>princetonLocky</td>\n",
              "    </tr>\n",
              "    <tr>\n",
              "      <th>5</th>\n",
              "      <td>112AmFATxzhuSpvtz1hfpa3Zrw3BG276pc</td>\n",
              "      <td>2016.0</td>\n",
              "      <td>96.0</td>\n",
              "      <td>144.0</td>\n",
              "      <td>8.461400e-02</td>\n",
              "      <td>2821.0</td>\n",
              "      <td>0.0</td>\n",
              "      <td>1.0</td>\n",
              "      <td>50000000.0</td>\n",
              "      <td>princetonLocky</td>\n",
              "    </tr>\n",
              "    <tr>\n",
              "      <th>6</th>\n",
              "      <td>112E91jxS2qrQY1z78LPWUWrLVFGqbYPQ1</td>\n",
              "      <td>2016.0</td>\n",
              "      <td>225.0</td>\n",
              "      <td>142.0</td>\n",
              "      <td>2.088519e-03</td>\n",
              "      <td>881.0</td>\n",
              "      <td>0.0</td>\n",
              "      <td>2.0</td>\n",
              "      <td>100000000.0</td>\n",
              "      <td>princetonCerber</td>\n",
              "    </tr>\n",
              "    <tr>\n",
              "      <th>7</th>\n",
              "      <td>112eFykaD53KEkKeYW9KW8eWebZYSbt2f5</td>\n",
              "      <td>2016.0</td>\n",
              "      <td>324.0</td>\n",
              "      <td>78.0</td>\n",
              "      <td>3.906250e-03</td>\n",
              "      <td>1.0</td>\n",
              "      <td>0.0</td>\n",
              "      <td>2.0</td>\n",
              "      <td>100990000.0</td>\n",
              "      <td>princetonCerber</td>\n",
              "    </tr>\n",
              "    <tr>\n",
              "      <th>8</th>\n",
              "      <td>112FTiRdJjMrNgEtd4fvdoq3TC33Ah5Dep</td>\n",
              "      <td>2016.0</td>\n",
              "      <td>298.0</td>\n",
              "      <td>144.0</td>\n",
              "      <td>2.302828e+00</td>\n",
              "      <td>4220.0</td>\n",
              "      <td>0.0</td>\n",
              "      <td>2.0</td>\n",
              "      <td>80000000.0</td>\n",
              "      <td>princetonCerber</td>\n",
              "    </tr>\n",
              "    <tr>\n",
              "      <th>9</th>\n",
              "      <td>112GocBgFSnaote6krx828qaockFraD8mp</td>\n",
              "      <td>2016.0</td>\n",
              "      <td>62.0</td>\n",
              "      <td>112.0</td>\n",
              "      <td>3.725290e-09</td>\n",
              "      <td>1.0</td>\n",
              "      <td>0.0</td>\n",
              "      <td>1.0</td>\n",
              "      <td>50000000.0</td>\n",
              "      <td>princetonLocky</td>\n",
              "    </tr>\n",
              "  </tbody>\n",
              "</table>\n",
              "</div>"
            ],
            "text/plain": [
              "                              address    year  ...       income            label\n",
              "0   111K8kZAEnJg245r2cM6y9zgJGHZtJPy6  2017.0  ...  100050000.0  princetonCerber\n",
              "1  1123pJv8jzeFQaCV4w644pzQJzVWay2zcA  2016.0  ...  100000000.0   princetonLocky\n",
              "2  112536im7hy6wtKbpH1qYDWtTyMRAcA2p7  2016.0  ...  200000000.0  princetonCerber\n",
              "3  1126eDRw2wqSkWosjTCre8cjjQW8sSeWH7  2016.0  ...   71200000.0  princetonCerber\n",
              "4  1129TSjKtx65E35GiUo4AYVeyo48twbrGX  2016.0  ...  200000000.0   princetonLocky\n",
              "5  112AmFATxzhuSpvtz1hfpa3Zrw3BG276pc  2016.0  ...   50000000.0   princetonLocky\n",
              "6  112E91jxS2qrQY1z78LPWUWrLVFGqbYPQ1  2016.0  ...  100000000.0  princetonCerber\n",
              "7  112eFykaD53KEkKeYW9KW8eWebZYSbt2f5  2016.0  ...  100990000.0  princetonCerber\n",
              "8  112FTiRdJjMrNgEtd4fvdoq3TC33Ah5Dep  2016.0  ...   80000000.0  princetonCerber\n",
              "9  112GocBgFSnaote6krx828qaockFraD8mp  2016.0  ...   50000000.0   princetonLocky\n",
              "\n",
              "[10 rows x 10 columns]"
            ]
          },
          "metadata": {
            "tags": []
          },
          "execution_count": 18
        }
      ]
    },
    {
      "cell_type": "code",
      "metadata": {
        "id": "w6-dkoJXzl1g"
      },
      "source": [
        "from sklearn import preprocessing \n",
        "label_encoder = preprocessing.LabelEncoder() \n",
        "df['address']=label_encoder.fit_transform(df['address'])\n",
        "#converting label column to string\n",
        "df['label'] = df['label'].astype(str)\n",
        "df['label']=label_encoder.fit_transform(df['label'])"
      ],
      "execution_count": 32,
      "outputs": []
    },
    {
      "cell_type": "code",
      "metadata": {
        "colab": {
          "base_uri": "https://localhost:8080/",
          "height": 359
        },
        "id": "HVg02cWs3JmD",
        "outputId": "d2e95dd2-2ae9-4418-b145-9c418dc8cb2b"
      },
      "source": [
        "df.head(10)"
      ],
      "execution_count": 33,
      "outputs": [
        {
          "output_type": "execute_result",
          "data": {
            "text/html": [
              "<div>\n",
              "<style scoped>\n",
              "    .dataframe tbody tr th:only-of-type {\n",
              "        vertical-align: middle;\n",
              "    }\n",
              "\n",
              "    .dataframe tbody tr th {\n",
              "        vertical-align: top;\n",
              "    }\n",
              "\n",
              "    .dataframe thead th {\n",
              "        text-align: right;\n",
              "    }\n",
              "</style>\n",
              "<table border=\"1\" class=\"dataframe\">\n",
              "  <thead>\n",
              "    <tr style=\"text-align: right;\">\n",
              "      <th></th>\n",
              "      <th>address</th>\n",
              "      <th>year</th>\n",
              "      <th>day</th>\n",
              "      <th>length</th>\n",
              "      <th>weight</th>\n",
              "      <th>count</th>\n",
              "      <th>looped</th>\n",
              "      <th>neighbors</th>\n",
              "      <th>income</th>\n",
              "      <th>label</th>\n",
              "    </tr>\n",
              "  </thead>\n",
              "  <tbody>\n",
              "    <tr>\n",
              "      <th>0</th>\n",
              "      <td>1</td>\n",
              "      <td>2017.0</td>\n",
              "      <td>11.0</td>\n",
              "      <td>18.0</td>\n",
              "      <td>8.333333e-03</td>\n",
              "      <td>1.0</td>\n",
              "      <td>0.0</td>\n",
              "      <td>2.0</td>\n",
              "      <td>100050000.0</td>\n",
              "      <td>27</td>\n",
              "    </tr>\n",
              "    <tr>\n",
              "      <th>1</th>\n",
              "      <td>8</td>\n",
              "      <td>2016.0</td>\n",
              "      <td>132.0</td>\n",
              "      <td>44.0</td>\n",
              "      <td>2.441406e-04</td>\n",
              "      <td>1.0</td>\n",
              "      <td>0.0</td>\n",
              "      <td>1.0</td>\n",
              "      <td>100000000.0</td>\n",
              "      <td>28</td>\n",
              "    </tr>\n",
              "    <tr>\n",
              "      <th>2</th>\n",
              "      <td>14</td>\n",
              "      <td>2016.0</td>\n",
              "      <td>246.0</td>\n",
              "      <td>0.0</td>\n",
              "      <td>1.000000e+00</td>\n",
              "      <td>1.0</td>\n",
              "      <td>0.0</td>\n",
              "      <td>2.0</td>\n",
              "      <td>200000000.0</td>\n",
              "      <td>27</td>\n",
              "    </tr>\n",
              "    <tr>\n",
              "      <th>3</th>\n",
              "      <td>17</td>\n",
              "      <td>2016.0</td>\n",
              "      <td>322.0</td>\n",
              "      <td>72.0</td>\n",
              "      <td>3.906250e-03</td>\n",
              "      <td>1.0</td>\n",
              "      <td>0.0</td>\n",
              "      <td>2.0</td>\n",
              "      <td>71200000.0</td>\n",
              "      <td>27</td>\n",
              "    </tr>\n",
              "    <tr>\n",
              "      <th>4</th>\n",
              "      <td>22</td>\n",
              "      <td>2016.0</td>\n",
              "      <td>238.0</td>\n",
              "      <td>144.0</td>\n",
              "      <td>7.284841e-02</td>\n",
              "      <td>456.0</td>\n",
              "      <td>0.0</td>\n",
              "      <td>1.0</td>\n",
              "      <td>200000000.0</td>\n",
              "      <td>28</td>\n",
              "    </tr>\n",
              "    <tr>\n",
              "      <th>5</th>\n",
              "      <td>25</td>\n",
              "      <td>2016.0</td>\n",
              "      <td>96.0</td>\n",
              "      <td>144.0</td>\n",
              "      <td>8.461400e-02</td>\n",
              "      <td>2821.0</td>\n",
              "      <td>0.0</td>\n",
              "      <td>1.0</td>\n",
              "      <td>50000000.0</td>\n",
              "      <td>28</td>\n",
              "    </tr>\n",
              "    <tr>\n",
              "      <th>6</th>\n",
              "      <td>30</td>\n",
              "      <td>2016.0</td>\n",
              "      <td>225.0</td>\n",
              "      <td>142.0</td>\n",
              "      <td>2.088519e-03</td>\n",
              "      <td>881.0</td>\n",
              "      <td>0.0</td>\n",
              "      <td>2.0</td>\n",
              "      <td>100000000.0</td>\n",
              "      <td>27</td>\n",
              "    </tr>\n",
              "    <tr>\n",
              "      <th>7</th>\n",
              "      <td>71</td>\n",
              "      <td>2016.0</td>\n",
              "      <td>324.0</td>\n",
              "      <td>78.0</td>\n",
              "      <td>3.906250e-03</td>\n",
              "      <td>1.0</td>\n",
              "      <td>0.0</td>\n",
              "      <td>2.0</td>\n",
              "      <td>100990000.0</td>\n",
              "      <td>27</td>\n",
              "    </tr>\n",
              "    <tr>\n",
              "      <th>8</th>\n",
              "      <td>33</td>\n",
              "      <td>2016.0</td>\n",
              "      <td>298.0</td>\n",
              "      <td>144.0</td>\n",
              "      <td>2.302828e+00</td>\n",
              "      <td>4220.0</td>\n",
              "      <td>0.0</td>\n",
              "      <td>2.0</td>\n",
              "      <td>80000000.0</td>\n",
              "      <td>27</td>\n",
              "    </tr>\n",
              "    <tr>\n",
              "      <th>9</th>\n",
              "      <td>35</td>\n",
              "      <td>2016.0</td>\n",
              "      <td>62.0</td>\n",
              "      <td>112.0</td>\n",
              "      <td>3.725290e-09</td>\n",
              "      <td>1.0</td>\n",
              "      <td>0.0</td>\n",
              "      <td>1.0</td>\n",
              "      <td>50000000.0</td>\n",
              "      <td>28</td>\n",
              "    </tr>\n",
              "  </tbody>\n",
              "</table>\n",
              "</div>"
            ],
            "text/plain": [
              "   address    year    day  length  ...  looped  neighbors       income  label\n",
              "0        1  2017.0   11.0    18.0  ...     0.0        2.0  100050000.0     27\n",
              "1        8  2016.0  132.0    44.0  ...     0.0        1.0  100000000.0     28\n",
              "2       14  2016.0  246.0     0.0  ...     0.0        2.0  200000000.0     27\n",
              "3       17  2016.0  322.0    72.0  ...     0.0        2.0   71200000.0     27\n",
              "4       22  2016.0  238.0   144.0  ...     0.0        1.0  200000000.0     28\n",
              "5       25  2016.0   96.0   144.0  ...     0.0        1.0   50000000.0     28\n",
              "6       30  2016.0  225.0   142.0  ...     0.0        2.0  100000000.0     27\n",
              "7       71  2016.0  324.0    78.0  ...     0.0        2.0  100990000.0     27\n",
              "8       33  2016.0  298.0   144.0  ...     0.0        2.0   80000000.0     27\n",
              "9       35  2016.0   62.0   112.0  ...     0.0        1.0   50000000.0     28\n",
              "\n",
              "[10 rows x 10 columns]"
            ]
          },
          "metadata": {
            "tags": []
          },
          "execution_count": 33
        }
      ]
    },
    {
      "cell_type": "code",
      "metadata": {
        "colab": {
          "base_uri": "https://localhost:8080/"
        },
        "id": "J5Qk4z4n3nnb",
        "outputId": "54984e5e-6dbe-4c0c-e0a5-de144b2cb230"
      },
      "source": [
        "#creating 2 different tables\n",
        "def shift():\n",
        "    X=df.drop('label',axis=1)\n",
        "    y=df['label']\n",
        "    return X,y\n",
        "shift()"
      ],
      "execution_count": 36,
      "outputs": [
        {
          "output_type": "execute_result",
          "data": {
            "text/plain": [
              "(        address    year    day  length  ...  count  looped  neighbors        income\n",
              " 0             1  2017.0   11.0    18.0  ...    1.0     0.0        2.0  1.000500e+08\n",
              " 1             8  2016.0  132.0    44.0  ...    1.0     0.0        1.0  1.000000e+08\n",
              " 2            14  2016.0  246.0     0.0  ...    1.0     0.0        2.0  2.000000e+08\n",
              " 3            17  2016.0  322.0    72.0  ...    1.0     0.0        2.0  7.120000e+07\n",
              " 4            22  2016.0  238.0   144.0  ...  456.0     0.0        1.0  2.000000e+08\n",
              " ...         ...     ...    ...     ...  ...    ...     ...        ...           ...\n",
              " 246465    29582  2011.0  215.0    18.0  ...    1.0     0.0        1.0  1.891284e+08\n",
              " 246466    33029  2011.0  215.0   102.0  ...    1.0     0.0        2.0  3.733500e+08\n",
              " 246467    60595  2011.0  215.0    18.0  ...    1.0     0.0        1.0  1.507000e+09\n",
              " 246468   123803  2011.0  215.0    12.0  ...   16.0     0.0        1.0  1.010000e+08\n",
              " 246469   180802     NaN    NaN     NaN  ...    NaN     NaN        NaN           NaN\n",
              " \n",
              " [246470 rows x 9 columns], 0         27\n",
              " 1         28\n",
              " 2         27\n",
              " 3         27\n",
              " 4         28\n",
              "           ..\n",
              " 246465    29\n",
              " 246466    29\n",
              " 246467    29\n",
              " 246468    29\n",
              " 246469    23\n",
              " Name: label, Length: 246470, dtype: int64)"
            ]
          },
          "metadata": {
            "tags": []
          },
          "execution_count": 36
        }
      ]
    },
    {
      "cell_type": "code",
      "metadata": {
        "colab": {
          "base_uri": "https://localhost:8080/"
        },
        "id": "skqVtGf-8V39",
        "outputId": "5eb83b83-f1d7-4d2b-df33-34cf98652112"
      },
      "source": [
        "def fsamp():\n",
        "    X,y=f1()\n",
        "    d={}\n",
        "    for i in y:\n",
        "        if i not in d:\n",
        "            d[i]=1\n",
        "    print(len(d))\n",
        "fsamp()"
      ],
      "execution_count": 45,
      "outputs": [
        {
          "output_type": "stream",
          "text": [
            "30\n"
          ],
          "name": "stdout"
        }
      ]
    },
    {
      "cell_type": "code",
      "metadata": {
        "colab": {
          "base_uri": "https://localhost:8080/"
        },
        "id": "8I0xWOXr49sB",
        "outputId": "bf8b3b0c-bcfe-456e-c59a-6f829a72dd79"
      },
      "source": [
        "from sklearn.model_selection import train_test_split\n",
        "X,y = f1()\n",
        "import tensorflow as tf\n",
        "from tensorflow import keras\n",
        "from tensorflow.keras import layers\n",
        "\n",
        "model =keras.models.Sequential([\n",
        "    layers.Dense(units=300,activation='relu',input_shape=[9]),\n",
        "    layers.Dense(units=512,activation='relu'),\n",
        "    layers.Dense(units=30,activation ='softmax'),\n",
        "])\n",
        "model.summary()\n",
        "model.compile(loss='sparse_categorical_crossentropy', optimizer=\"sgd\", metrics=['accuracy'])\n",
        "X_train,X_test,y_train,y_test=train_test_split(X,y,test_size=0.5,random_state=0)\n",
        "model_history=model.fit(X_train,y_train,validation_data=(X_test,y_test),batch_size=1000,epochs=30)"
      ],
      "execution_count": 47,
      "outputs": [
        {
          "output_type": "stream",
          "text": [
            "Model: \"sequential_7\"\n",
            "_________________________________________________________________\n",
            "Layer (type)                 Output Shape              Param #   \n",
            "=================================================================\n",
            "dense_21 (Dense)             (None, 300)               3000      \n",
            "_________________________________________________________________\n",
            "dense_22 (Dense)             (None, 512)               154112    \n",
            "_________________________________________________________________\n",
            "dense_23 (Dense)             (None, 30)                15390     \n",
            "=================================================================\n",
            "Total params: 172,502\n",
            "Trainable params: 172,502\n",
            "Non-trainable params: 0\n",
            "_________________________________________________________________\n",
            "Epoch 1/30\n",
            "124/124 [==============================] - 5s 37ms/step - loss: 1242421949213802805924437426176.0000 - accuracy: 0.7700 - val_loss: nan - val_accuracy: 0.8327\n",
            "Epoch 2/30\n",
            "124/124 [==============================] - 4s 34ms/step - loss: 2.4923 - accuracy: 0.8306 - val_loss: nan - val_accuracy: 0.8327\n",
            "Epoch 3/30\n",
            "124/124 [==============================] - 4s 34ms/step - loss: 1.8944 - accuracy: 0.8305 - val_loss: nan - val_accuracy: 0.8327\n",
            "Epoch 4/30\n",
            "124/124 [==============================] - 4s 34ms/step - loss: 1.4974 - accuracy: 0.8304 - val_loss: nan - val_accuracy: 0.8327\n",
            "Epoch 5/30\n",
            "124/124 [==============================] - 4s 34ms/step - loss: 1.2752 - accuracy: 0.8285 - val_loss: nan - val_accuracy: 0.8327\n",
            "Epoch 6/30\n",
            "124/124 [==============================] - 4s 34ms/step - loss: 1.1407 - accuracy: 0.8318 - val_loss: nan - val_accuracy: 0.8327\n",
            "Epoch 7/30\n",
            "124/124 [==============================] - 4s 34ms/step - loss: 1.0767 - accuracy: 0.8305 - val_loss: nan - val_accuracy: 0.8327\n",
            "Epoch 8/30\n",
            "124/124 [==============================] - 4s 34ms/step - loss: 1.0341 - accuracy: 0.8310 - val_loss: nan - val_accuracy: 0.8327\n",
            "Epoch 9/30\n",
            "124/124 [==============================] - 4s 34ms/step - loss: 0.9998 - accuracy: 0.8332 - val_loss: nan - val_accuracy: 0.8327\n",
            "Epoch 10/30\n",
            "124/124 [==============================] - 4s 34ms/step - loss: 0.9965 - accuracy: 0.8298 - val_loss: nan - val_accuracy: 0.8327\n",
            "Epoch 11/30\n",
            "124/124 [==============================] - 4s 34ms/step - loss: 0.9809 - accuracy: 0.8304 - val_loss: nan - val_accuracy: 0.8327\n",
            "Epoch 12/30\n",
            "124/124 [==============================] - 4s 34ms/step - loss: 0.9674 - accuracy: 0.8313 - val_loss: nan - val_accuracy: 0.8327\n",
            "Epoch 13/30\n",
            "124/124 [==============================] - 4s 36ms/step - loss: 0.9604 - accuracy: 0.8311 - val_loss: nan - val_accuracy: 0.8327\n",
            "Epoch 14/30\n",
            "124/124 [==============================] - 4s 36ms/step - loss: 0.9481 - accuracy: 0.8322 - val_loss: nan - val_accuracy: 0.8327\n",
            "Epoch 15/30\n",
            "124/124 [==============================] - 4s 35ms/step - loss: 0.9461 - accuracy: 0.8313 - val_loss: nan - val_accuracy: 0.8327\n",
            "Epoch 16/30\n",
            "124/124 [==============================] - 4s 35ms/step - loss: 0.9360 - accuracy: 0.8322 - val_loss: nan - val_accuracy: 0.8327\n",
            "Epoch 17/30\n",
            "124/124 [==============================] - 4s 34ms/step - loss: 0.9349 - accuracy: 0.8313 - val_loss: nan - val_accuracy: 0.8327\n",
            "Epoch 18/30\n",
            "124/124 [==============================] - 4s 34ms/step - loss: 0.9279 - accuracy: 0.8317 - val_loss: nan - val_accuracy: 0.8327\n",
            "Epoch 19/30\n",
            "124/124 [==============================] - 4s 35ms/step - loss: 0.9206 - accuracy: 0.8322 - val_loss: nan - val_accuracy: 0.8327\n",
            "Epoch 20/30\n",
            "124/124 [==============================] - 4s 36ms/step - loss: 0.9193 - accuracy: 0.8315 - val_loss: nan - val_accuracy: 0.8327\n",
            "Epoch 21/30\n",
            "124/124 [==============================] - 4s 36ms/step - loss: 0.9160 - accuracy: 0.8312 - val_loss: nan - val_accuracy: 0.8327\n",
            "Epoch 22/30\n",
            "124/124 [==============================] - 4s 35ms/step - loss: 0.9153 - accuracy: 0.8303 - val_loss: nan - val_accuracy: 0.8327\n",
            "Epoch 23/30\n",
            "124/124 [==============================] - 4s 36ms/step - loss: 0.9113 - accuracy: 0.8302 - val_loss: nan - val_accuracy: 0.8327\n",
            "Epoch 24/30\n",
            "124/124 [==============================] - 4s 36ms/step - loss: 0.8966 - accuracy: 0.8328 - val_loss: nan - val_accuracy: 0.8327\n",
            "Epoch 25/30\n",
            "124/124 [==============================] - 4s 35ms/step - loss: 0.8983 - accuracy: 0.8315 - val_loss: nan - val_accuracy: 0.8327\n",
            "Epoch 26/30\n",
            "124/124 [==============================] - 4s 35ms/step - loss: 0.8961 - accuracy: 0.8310 - val_loss: nan - val_accuracy: 0.8327\n",
            "Epoch 27/30\n",
            "124/124 [==============================] - 4s 35ms/step - loss: 0.8989 - accuracy: 0.8294 - val_loss: nan - val_accuracy: 0.8327\n",
            "Epoch 28/30\n",
            "124/124 [==============================] - 4s 35ms/step - loss: 0.8873 - accuracy: 0.8313 - val_loss: nan - val_accuracy: 0.8327\n",
            "Epoch 29/30\n",
            "124/124 [==============================] - 4s 35ms/step - loss: 0.8882 - accuracy: 0.8300 - val_loss: nan - val_accuracy: 0.8327\n",
            "Epoch 30/30\n",
            "124/124 [==============================] - 4s 35ms/step - loss: 0.8801 - accuracy: 0.8312 - val_loss: nan - val_accuracy: 0.8327\n"
          ],
          "name": "stdout"
        }
      ]
    },
    {
      "cell_type": "code",
      "metadata": {
        "colab": {
          "base_uri": "https://localhost:8080/"
        },
        "id": "g1MOiuYO7KYL",
        "outputId": "05a6b9cf-e3cc-4997-851d-c94328d9197c"
      },
      "source": [
        "model_history.history"
      ],
      "execution_count": 48,
      "outputs": [
        {
          "output_type": "execute_result",
          "data": {
            "text/plain": [
              "{'accuracy': [0.8179656863212585,\n",
              "  0.8312411308288574,\n",
              "  0.8312411308288574,\n",
              "  0.8312411308288574,\n",
              "  0.8312411308288574,\n",
              "  0.8312411308288574,\n",
              "  0.8312411308288574,\n",
              "  0.8312411308288574,\n",
              "  0.8312411308288574,\n",
              "  0.8312411308288574,\n",
              "  0.8312411308288574,\n",
              "  0.8312411308288574,\n",
              "  0.8312411308288574,\n",
              "  0.8312411308288574,\n",
              "  0.8312411308288574,\n",
              "  0.8312411308288574,\n",
              "  0.8312411308288574,\n",
              "  0.8312411308288574,\n",
              "  0.8312411308288574,\n",
              "  0.8312411308288574,\n",
              "  0.8312411308288574,\n",
              "  0.8312411308288574,\n",
              "  0.8312411308288574,\n",
              "  0.8312411308288574,\n",
              "  0.8312411308288574,\n",
              "  0.8312411308288574,\n",
              "  0.8312411308288574,\n",
              "  0.8312411308288574,\n",
              "  0.8312411308288574,\n",
              "  0.8312411308288574],\n",
              " 'loss': [2.8578349022275418e+29,\n",
              "  2.331785202026367,\n",
              "  1.781144618988037,\n",
              "  1.429012656211853,\n",
              "  1.2307120561599731,\n",
              "  1.1229249238967896,\n",
              "  1.062403917312622,\n",
              "  1.0262057781219482,\n",
              "  1.002980351448059,\n",
              "  0.9868782758712769,\n",
              "  0.9749154448509216,\n",
              "  0.9654749035835266,\n",
              "  0.9575993418693542,\n",
              "  0.9507535696029663,\n",
              "  0.9445913434028625,\n",
              "  0.938909649848938,\n",
              "  0.9335790276527405,\n",
              "  0.9285162687301636,\n",
              "  0.9236764311790466,\n",
              "  0.9190142154693604,\n",
              "  0.9145083427429199,\n",
              "  0.9101470708847046,\n",
              "  0.9059181809425354,\n",
              "  0.9018105864524841,\n",
              "  0.897822380065918,\n",
              "  0.8939484357833862,\n",
              "  0.8901863694190979,\n",
              "  0.8865301012992859,\n",
              "  0.8829832673072815,\n",
              "  0.8795429468154907],\n",
              " 'val_accuracy': [0.8327017426490784,\n",
              "  0.8327017426490784,\n",
              "  0.8327017426490784,\n",
              "  0.8327017426490784,\n",
              "  0.8327017426490784,\n",
              "  0.8327017426490784,\n",
              "  0.8327017426490784,\n",
              "  0.8327017426490784,\n",
              "  0.8327017426490784,\n",
              "  0.8327017426490784,\n",
              "  0.8327017426490784,\n",
              "  0.8327017426490784,\n",
              "  0.8327017426490784,\n",
              "  0.8327017426490784,\n",
              "  0.8327017426490784,\n",
              "  0.8327017426490784,\n",
              "  0.8327017426490784,\n",
              "  0.8327017426490784,\n",
              "  0.8327017426490784,\n",
              "  0.8327017426490784,\n",
              "  0.8327017426490784,\n",
              "  0.8327017426490784,\n",
              "  0.8327017426490784,\n",
              "  0.8327017426490784,\n",
              "  0.8327017426490784,\n",
              "  0.8327017426490784,\n",
              "  0.8327017426490784,\n",
              "  0.8327017426490784,\n",
              "  0.8327017426490784,\n",
              "  0.8327017426490784],\n",
              " 'val_loss': [nan,\n",
              "  nan,\n",
              "  nan,\n",
              "  nan,\n",
              "  nan,\n",
              "  nan,\n",
              "  nan,\n",
              "  nan,\n",
              "  nan,\n",
              "  nan,\n",
              "  nan,\n",
              "  nan,\n",
              "  nan,\n",
              "  nan,\n",
              "  nan,\n",
              "  nan,\n",
              "  nan,\n",
              "  nan,\n",
              "  nan,\n",
              "  nan,\n",
              "  nan,\n",
              "  nan,\n",
              "  nan,\n",
              "  nan,\n",
              "  nan,\n",
              "  nan,\n",
              "  nan,\n",
              "  nan,\n",
              "  nan,\n",
              "  nan]}"
            ]
          },
          "metadata": {
            "tags": []
          },
          "execution_count": 48
        }
      ]
    },
    {
      "cell_type": "code",
      "metadata": {
        "colab": {
          "base_uri": "https://localhost:8080/"
        },
        "id": "9WPUXnw_9JoR",
        "outputId": "d1d03221-8368-4b86-a1c9-f43638158464"
      },
      "source": [
        "model_history.params"
      ],
      "execution_count": 49,
      "outputs": [
        {
          "output_type": "execute_result",
          "data": {
            "text/plain": [
              "{'epochs': 30, 'steps': 124, 'verbose': 1}"
            ]
          },
          "metadata": {
            "tags": []
          },
          "execution_count": 49
        }
      ]
    },
    {
      "cell_type": "code",
      "metadata": {
        "colab": {
          "base_uri": "https://localhost:8080/"
        },
        "id": "_9GvFU_69OIA",
        "outputId": "d2938d43-8d88-4b90-dc2b-9064ed3bdfdb"
      },
      "source": [
        "model.evaluate(X_test,y_test)"
      ],
      "execution_count": 50,
      "outputs": [
        {
          "output_type": "stream",
          "text": [
            "3852/3852 [==============================] - 6s 1ms/step - loss: nan - accuracy: 0.8327\n"
          ],
          "name": "stdout"
        },
        {
          "output_type": "execute_result",
          "data": {
            "text/plain": [
              "[nan, 0.8327017426490784]"
            ]
          },
          "metadata": {
            "tags": []
          },
          "execution_count": 50
        }
      ]
    },
    {
      "cell_type": "code",
      "metadata": {
        "id": "zebfZ6c79Pk4"
      },
      "source": [
        "model.save('btcheist.h5')\n"
      ],
      "execution_count": 54,
      "outputs": []
    },
    {
      "cell_type": "code",
      "metadata": {
        "id": "biQZ9sMG9v9e"
      },
      "source": [
        ""
      ],
      "execution_count": null,
      "outputs": []
    }
  ]
}