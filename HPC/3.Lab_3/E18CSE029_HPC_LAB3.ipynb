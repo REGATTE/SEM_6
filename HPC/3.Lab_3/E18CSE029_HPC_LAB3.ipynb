{
  "nbformat": 4,
  "nbformat_minor": 0,
  "metadata": {
    "colab": {
      "name": "E18CSE116_lab03.ipynb",
      "provenance": []
    },
    "kernelspec": {
      "display_name": "Python 3",
      "language": "python",
      "name": "python3"
    },
    "language_info": {
      "codemirror_mode": {
        "name": "ipython",
        "version": 3
      },
      "file_extension": ".py",
      "mimetype": "text/x-python",
      "name": "python",
      "nbconvert_exporter": "python",
      "pygments_lexer": "ipython3",
      "version": "3.6.8"
    }
  },
  "cells": [
    {
      "cell_type": "code",
      "execution_count": null,
      "metadata": {},
      "outputs": [],
      "source": [
        "#ASHOK KUMAR\n",
        "#E18CSE029"
      ]
    },
    {
      "cell_type": "code",
      "metadata": {
        "id": "euOqmwTWerFH"
      },
      "source": [
        "import pandas as pd\n",
        "import numpy as np\n"
      ],
      "execution_count": 1,
      "outputs": []
    },
    {
      "cell_type": "code",
      "metadata": {
        "colab": {
          "base_uri": "https://localhost:8080/"
        },
        "id": "jSOzdimqcunz",
        "outputId": "471668f5-b92e-4517-ae7d-0b8a073ce5d6"
      },
      "source": [
        "!wget https://archive.ics.uci.edu/ml/machine-learning-databases/00526/data.zip"
      ],
      "execution_count": 2,
      "outputs": [
        {
          "output_type": "stream",
          "text": [
            "--2021-02-02 13:13:32--  https://archive.ics.uci.edu/ml/machine-learning-databases/00526/data.zip\n",
            "Resolving archive.ics.uci.edu (archive.ics.uci.edu)... 128.195.10.252\n",
            "Connecting to archive.ics.uci.edu (archive.ics.uci.edu)|128.195.10.252|:443... connected.\n",
            "HTTP request sent, awaiting response... 200 OK\n",
            "Length: 116104947 (111M) [application/x-httpd-php]\n",
            "Saving to: ‘data.zip’\n",
            "\n",
            "data.zip            100%[===================>] 110.73M  82.7MB/s    in 1.3s    \n",
            "\n",
            "2021-02-02 13:13:34 (82.7 MB/s) - ‘data.zip’ saved [116104947/116104947]\n",
            "\n"
          ],
          "name": "stdout"
        }
      ]
    },
    {
      "cell_type": "code",
      "metadata": {
        "id": "ynNHnprMdZAq"
      },
      "source": [
        "!unzip -q data.zip"
      ],
      "execution_count": 3,
      "outputs": []
    },
    {
      "cell_type": "code",
      "metadata": {
        "id": "F2BjaWK5ASsj"
      },
      "source": [
        "from sklearn.model_selection import train_test_split"
      ],
      "execution_count": 4,
      "outputs": []
    },
    {
      "cell_type": "code",
      "metadata": {
        "colab": {
          "base_uri": "https://localhost:8080/",
          "height": 195
        },
        "id": "J5pw7la1d-ZZ",
        "outputId": "5f29761c-eb6f-4e62-e3e7-0ad362718e0b"
      },
      "source": [
        "d = pd.read_csv(\"BitcoinHeistData.csv\")\n",
        "d.head()"
      ],
      "execution_count": 9,
      "outputs": [
        {
          "output_type": "execute_result",
          "data": {
            "text/html": [
              "<div>\n",
              "<style scoped>\n",
              "    .dataframe tbody tr th:only-of-type {\n",
              "        vertical-align: middle;\n",
              "    }\n",
              "\n",
              "    .dataframe tbody tr th {\n",
              "        vertical-align: top;\n",
              "    }\n",
              "\n",
              "    .dataframe thead th {\n",
              "        text-align: right;\n",
              "    }\n",
              "</style>\n",
              "<table border=\"1\" class=\"dataframe\">\n",
              "  <thead>\n",
              "    <tr style=\"text-align: right;\">\n",
              "      <th></th>\n",
              "      <th>address</th>\n",
              "      <th>year</th>\n",
              "      <th>day</th>\n",
              "      <th>length</th>\n",
              "      <th>weight</th>\n",
              "      <th>count</th>\n",
              "      <th>looped</th>\n",
              "      <th>neighbors</th>\n",
              "      <th>income</th>\n",
              "      <th>label</th>\n",
              "    </tr>\n",
              "  </thead>\n",
              "  <tbody>\n",
              "    <tr>\n",
              "      <th>0</th>\n",
              "      <td>111K8kZAEnJg245r2cM6y9zgJGHZtJPy6</td>\n",
              "      <td>2017</td>\n",
              "      <td>11</td>\n",
              "      <td>18</td>\n",
              "      <td>0.008333</td>\n",
              "      <td>1</td>\n",
              "      <td>0</td>\n",
              "      <td>2</td>\n",
              "      <td>100050000.0</td>\n",
              "      <td>princetonCerber</td>\n",
              "    </tr>\n",
              "    <tr>\n",
              "      <th>1</th>\n",
              "      <td>1123pJv8jzeFQaCV4w644pzQJzVWay2zcA</td>\n",
              "      <td>2016</td>\n",
              "      <td>132</td>\n",
              "      <td>44</td>\n",
              "      <td>0.000244</td>\n",
              "      <td>1</td>\n",
              "      <td>0</td>\n",
              "      <td>1</td>\n",
              "      <td>100000000.0</td>\n",
              "      <td>princetonLocky</td>\n",
              "    </tr>\n",
              "    <tr>\n",
              "      <th>2</th>\n",
              "      <td>112536im7hy6wtKbpH1qYDWtTyMRAcA2p7</td>\n",
              "      <td>2016</td>\n",
              "      <td>246</td>\n",
              "      <td>0</td>\n",
              "      <td>1.000000</td>\n",
              "      <td>1</td>\n",
              "      <td>0</td>\n",
              "      <td>2</td>\n",
              "      <td>200000000.0</td>\n",
              "      <td>princetonCerber</td>\n",
              "    </tr>\n",
              "    <tr>\n",
              "      <th>3</th>\n",
              "      <td>1126eDRw2wqSkWosjTCre8cjjQW8sSeWH7</td>\n",
              "      <td>2016</td>\n",
              "      <td>322</td>\n",
              "      <td>72</td>\n",
              "      <td>0.003906</td>\n",
              "      <td>1</td>\n",
              "      <td>0</td>\n",
              "      <td>2</td>\n",
              "      <td>71200000.0</td>\n",
              "      <td>princetonCerber</td>\n",
              "    </tr>\n",
              "    <tr>\n",
              "      <th>4</th>\n",
              "      <td>1129TSjKtx65E35GiUo4AYVeyo48twbrGX</td>\n",
              "      <td>2016</td>\n",
              "      <td>238</td>\n",
              "      <td>144</td>\n",
              "      <td>0.072848</td>\n",
              "      <td>456</td>\n",
              "      <td>0</td>\n",
              "      <td>1</td>\n",
              "      <td>200000000.0</td>\n",
              "      <td>princetonLocky</td>\n",
              "    </tr>\n",
              "  </tbody>\n",
              "</table>\n",
              "</div>"
            ],
            "text/plain": [
              "                              address  year  ...       income            label\n",
              "0   111K8kZAEnJg245r2cM6y9zgJGHZtJPy6  2017  ...  100050000.0  princetonCerber\n",
              "1  1123pJv8jzeFQaCV4w644pzQJzVWay2zcA  2016  ...  100000000.0   princetonLocky\n",
              "2  112536im7hy6wtKbpH1qYDWtTyMRAcA2p7  2016  ...  200000000.0  princetonCerber\n",
              "3  1126eDRw2wqSkWosjTCre8cjjQW8sSeWH7  2016  ...   71200000.0  princetonCerber\n",
              "4  1129TSjKtx65E35GiUo4AYVeyo48twbrGX  2016  ...  200000000.0   princetonLocky\n",
              "\n",
              "[5 rows x 10 columns]"
            ]
          },
          "metadata": {
            "tags": []
          },
          "execution_count": 9
        }
      ]
    },
    {
      "cell_type": "code",
      "metadata": {
        "colab": {
          "base_uri": "https://localhost:8080/",
          "height": 195
        },
        "id": "ODoZNgN8jh87",
        "outputId": "87095191-ae77-40d3-ea21-12db31cb8587"
      },
      "source": [
        "d['label'] = d['label'].apply(lambda x: 0 if x.lower() == 'white' else 1)\n",
        "d.head()"
      ],
      "execution_count": 10,
      "outputs": [
        {
          "output_type": "execute_result",
          "data": {
            "text/html": [
              "<div>\n",
              "<style scoped>\n",
              "    .dataframe tbody tr th:only-of-type {\n",
              "        vertical-align: middle;\n",
              "    }\n",
              "\n",
              "    .dataframe tbody tr th {\n",
              "        vertical-align: top;\n",
              "    }\n",
              "\n",
              "    .dataframe thead th {\n",
              "        text-align: right;\n",
              "    }\n",
              "</style>\n",
              "<table border=\"1\" class=\"dataframe\">\n",
              "  <thead>\n",
              "    <tr style=\"text-align: right;\">\n",
              "      <th></th>\n",
              "      <th>address</th>\n",
              "      <th>year</th>\n",
              "      <th>day</th>\n",
              "      <th>length</th>\n",
              "      <th>weight</th>\n",
              "      <th>count</th>\n",
              "      <th>looped</th>\n",
              "      <th>neighbors</th>\n",
              "      <th>income</th>\n",
              "      <th>label</th>\n",
              "    </tr>\n",
              "  </thead>\n",
              "  <tbody>\n",
              "    <tr>\n",
              "      <th>0</th>\n",
              "      <td>111K8kZAEnJg245r2cM6y9zgJGHZtJPy6</td>\n",
              "      <td>2017</td>\n",
              "      <td>11</td>\n",
              "      <td>18</td>\n",
              "      <td>0.008333</td>\n",
              "      <td>1</td>\n",
              "      <td>0</td>\n",
              "      <td>2</td>\n",
              "      <td>100050000.0</td>\n",
              "      <td>1</td>\n",
              "    </tr>\n",
              "    <tr>\n",
              "      <th>1</th>\n",
              "      <td>1123pJv8jzeFQaCV4w644pzQJzVWay2zcA</td>\n",
              "      <td>2016</td>\n",
              "      <td>132</td>\n",
              "      <td>44</td>\n",
              "      <td>0.000244</td>\n",
              "      <td>1</td>\n",
              "      <td>0</td>\n",
              "      <td>1</td>\n",
              "      <td>100000000.0</td>\n",
              "      <td>1</td>\n",
              "    </tr>\n",
              "    <tr>\n",
              "      <th>2</th>\n",
              "      <td>112536im7hy6wtKbpH1qYDWtTyMRAcA2p7</td>\n",
              "      <td>2016</td>\n",
              "      <td>246</td>\n",
              "      <td>0</td>\n",
              "      <td>1.000000</td>\n",
              "      <td>1</td>\n",
              "      <td>0</td>\n",
              "      <td>2</td>\n",
              "      <td>200000000.0</td>\n",
              "      <td>1</td>\n",
              "    </tr>\n",
              "    <tr>\n",
              "      <th>3</th>\n",
              "      <td>1126eDRw2wqSkWosjTCre8cjjQW8sSeWH7</td>\n",
              "      <td>2016</td>\n",
              "      <td>322</td>\n",
              "      <td>72</td>\n",
              "      <td>0.003906</td>\n",
              "      <td>1</td>\n",
              "      <td>0</td>\n",
              "      <td>2</td>\n",
              "      <td>71200000.0</td>\n",
              "      <td>1</td>\n",
              "    </tr>\n",
              "    <tr>\n",
              "      <th>4</th>\n",
              "      <td>1129TSjKtx65E35GiUo4AYVeyo48twbrGX</td>\n",
              "      <td>2016</td>\n",
              "      <td>238</td>\n",
              "      <td>144</td>\n",
              "      <td>0.072848</td>\n",
              "      <td>456</td>\n",
              "      <td>0</td>\n",
              "      <td>1</td>\n",
              "      <td>200000000.0</td>\n",
              "      <td>1</td>\n",
              "    </tr>\n",
              "  </tbody>\n",
              "</table>\n",
              "</div>"
            ],
            "text/plain": [
              "                              address  year  day  ...  neighbors       income  label\n",
              "0   111K8kZAEnJg245r2cM6y9zgJGHZtJPy6  2017   11  ...          2  100050000.0      1\n",
              "1  1123pJv8jzeFQaCV4w644pzQJzVWay2zcA  2016  132  ...          1  100000000.0      1\n",
              "2  112536im7hy6wtKbpH1qYDWtTyMRAcA2p7  2016  246  ...          2  200000000.0      1\n",
              "3  1126eDRw2wqSkWosjTCre8cjjQW8sSeWH7  2016  322  ...          2   71200000.0      1\n",
              "4  1129TSjKtx65E35GiUo4AYVeyo48twbrGX  2016  238  ...          1  200000000.0      1\n",
              "\n",
              "[5 rows x 10 columns]"
            ]
          },
          "metadata": {
            "tags": []
          },
          "execution_count": 10
        }
      ]
    },
    {
      "cell_type": "code",
      "metadata": {
        "colab": {
          "base_uri": "https://localhost:8080/",
          "height": 402
        },
        "id": "X44D8mEhpmp1",
        "outputId": "1e062b54-c70d-40c9-b9bf-aa99aab4fc8a"
      },
      "source": [
        "d.insert(1,\"sr.no\",d.index)\n",
        "d"
      ],
      "execution_count": 11,
      "outputs": [
        {
          "output_type": "execute_result",
          "data": {
            "text/html": [
              "<div>\n",
              "<style scoped>\n",
              "    .dataframe tbody tr th:only-of-type {\n",
              "        vertical-align: middle;\n",
              "    }\n",
              "\n",
              "    .dataframe tbody tr th {\n",
              "        vertical-align: top;\n",
              "    }\n",
              "\n",
              "    .dataframe thead th {\n",
              "        text-align: right;\n",
              "    }\n",
              "</style>\n",
              "<table border=\"1\" class=\"dataframe\">\n",
              "  <thead>\n",
              "    <tr style=\"text-align: right;\">\n",
              "      <th></th>\n",
              "      <th>address</th>\n",
              "      <th>sr.no</th>\n",
              "      <th>year</th>\n",
              "      <th>day</th>\n",
              "      <th>length</th>\n",
              "      <th>weight</th>\n",
              "      <th>count</th>\n",
              "      <th>looped</th>\n",
              "      <th>neighbors</th>\n",
              "      <th>income</th>\n",
              "      <th>label</th>\n",
              "    </tr>\n",
              "  </thead>\n",
              "  <tbody>\n",
              "    <tr>\n",
              "      <th>0</th>\n",
              "      <td>111K8kZAEnJg245r2cM6y9zgJGHZtJPy6</td>\n",
              "      <td>0</td>\n",
              "      <td>2017</td>\n",
              "      <td>11</td>\n",
              "      <td>18</td>\n",
              "      <td>0.008333</td>\n",
              "      <td>1</td>\n",
              "      <td>0</td>\n",
              "      <td>2</td>\n",
              "      <td>1.000500e+08</td>\n",
              "      <td>1</td>\n",
              "    </tr>\n",
              "    <tr>\n",
              "      <th>1</th>\n",
              "      <td>1123pJv8jzeFQaCV4w644pzQJzVWay2zcA</td>\n",
              "      <td>1</td>\n",
              "      <td>2016</td>\n",
              "      <td>132</td>\n",
              "      <td>44</td>\n",
              "      <td>0.000244</td>\n",
              "      <td>1</td>\n",
              "      <td>0</td>\n",
              "      <td>1</td>\n",
              "      <td>1.000000e+08</td>\n",
              "      <td>1</td>\n",
              "    </tr>\n",
              "    <tr>\n",
              "      <th>2</th>\n",
              "      <td>112536im7hy6wtKbpH1qYDWtTyMRAcA2p7</td>\n",
              "      <td>2</td>\n",
              "      <td>2016</td>\n",
              "      <td>246</td>\n",
              "      <td>0</td>\n",
              "      <td>1.000000</td>\n",
              "      <td>1</td>\n",
              "      <td>0</td>\n",
              "      <td>2</td>\n",
              "      <td>2.000000e+08</td>\n",
              "      <td>1</td>\n",
              "    </tr>\n",
              "    <tr>\n",
              "      <th>3</th>\n",
              "      <td>1126eDRw2wqSkWosjTCre8cjjQW8sSeWH7</td>\n",
              "      <td>3</td>\n",
              "      <td>2016</td>\n",
              "      <td>322</td>\n",
              "      <td>72</td>\n",
              "      <td>0.003906</td>\n",
              "      <td>1</td>\n",
              "      <td>0</td>\n",
              "      <td>2</td>\n",
              "      <td>7.120000e+07</td>\n",
              "      <td>1</td>\n",
              "    </tr>\n",
              "    <tr>\n",
              "      <th>4</th>\n",
              "      <td>1129TSjKtx65E35GiUo4AYVeyo48twbrGX</td>\n",
              "      <td>4</td>\n",
              "      <td>2016</td>\n",
              "      <td>238</td>\n",
              "      <td>144</td>\n",
              "      <td>0.072848</td>\n",
              "      <td>456</td>\n",
              "      <td>0</td>\n",
              "      <td>1</td>\n",
              "      <td>2.000000e+08</td>\n",
              "      <td>1</td>\n",
              "    </tr>\n",
              "    <tr>\n",
              "      <th>...</th>\n",
              "      <td>...</td>\n",
              "      <td>...</td>\n",
              "      <td>...</td>\n",
              "      <td>...</td>\n",
              "      <td>...</td>\n",
              "      <td>...</td>\n",
              "      <td>...</td>\n",
              "      <td>...</td>\n",
              "      <td>...</td>\n",
              "      <td>...</td>\n",
              "      <td>...</td>\n",
              "    </tr>\n",
              "    <tr>\n",
              "      <th>2916692</th>\n",
              "      <td>12D3trgho1vJ4mGtWBRPyHdMJK96TRYSry</td>\n",
              "      <td>2916692</td>\n",
              "      <td>2018</td>\n",
              "      <td>330</td>\n",
              "      <td>0</td>\n",
              "      <td>0.111111</td>\n",
              "      <td>1</td>\n",
              "      <td>0</td>\n",
              "      <td>1</td>\n",
              "      <td>1.255809e+09</td>\n",
              "      <td>0</td>\n",
              "    </tr>\n",
              "    <tr>\n",
              "      <th>2916693</th>\n",
              "      <td>1P7PputTcVkhXBmXBvSD9MJ3UYPsiou1u2</td>\n",
              "      <td>2916693</td>\n",
              "      <td>2018</td>\n",
              "      <td>330</td>\n",
              "      <td>0</td>\n",
              "      <td>1.000000</td>\n",
              "      <td>1</td>\n",
              "      <td>0</td>\n",
              "      <td>1</td>\n",
              "      <td>4.409699e+07</td>\n",
              "      <td>0</td>\n",
              "    </tr>\n",
              "    <tr>\n",
              "      <th>2916694</th>\n",
              "      <td>1KYiKJEfdJtap9QX2v9BXJMpz2SfU4pgZw</td>\n",
              "      <td>2916694</td>\n",
              "      <td>2018</td>\n",
              "      <td>330</td>\n",
              "      <td>2</td>\n",
              "      <td>12.000000</td>\n",
              "      <td>6</td>\n",
              "      <td>6</td>\n",
              "      <td>35</td>\n",
              "      <td>2.398267e+09</td>\n",
              "      <td>0</td>\n",
              "    </tr>\n",
              "    <tr>\n",
              "      <th>2916695</th>\n",
              "      <td>15iPUJsRNZQZHmZZVwmQ63srsmughCXV4a</td>\n",
              "      <td>2916695</td>\n",
              "      <td>2018</td>\n",
              "      <td>330</td>\n",
              "      <td>0</td>\n",
              "      <td>0.500000</td>\n",
              "      <td>1</td>\n",
              "      <td>0</td>\n",
              "      <td>1</td>\n",
              "      <td>1.780427e+08</td>\n",
              "      <td>0</td>\n",
              "    </tr>\n",
              "    <tr>\n",
              "      <th>2916696</th>\n",
              "      <td>3LFFBxp15h9KSFtaw55np8eP5fv6kdK17e</td>\n",
              "      <td>2916696</td>\n",
              "      <td>2018</td>\n",
              "      <td>330</td>\n",
              "      <td>144</td>\n",
              "      <td>0.073972</td>\n",
              "      <td>6800</td>\n",
              "      <td>0</td>\n",
              "      <td>2</td>\n",
              "      <td>1.123500e+08</td>\n",
              "      <td>0</td>\n",
              "    </tr>\n",
              "  </tbody>\n",
              "</table>\n",
              "<p>2916697 rows × 11 columns</p>\n",
              "</div>"
            ],
            "text/plain": [
              "                                    address    sr.no  ...        income  label\n",
              "0         111K8kZAEnJg245r2cM6y9zgJGHZtJPy6        0  ...  1.000500e+08      1\n",
              "1        1123pJv8jzeFQaCV4w644pzQJzVWay2zcA        1  ...  1.000000e+08      1\n",
              "2        112536im7hy6wtKbpH1qYDWtTyMRAcA2p7        2  ...  2.000000e+08      1\n",
              "3        1126eDRw2wqSkWosjTCre8cjjQW8sSeWH7        3  ...  7.120000e+07      1\n",
              "4        1129TSjKtx65E35GiUo4AYVeyo48twbrGX        4  ...  2.000000e+08      1\n",
              "...                                     ...      ...  ...           ...    ...\n",
              "2916692  12D3trgho1vJ4mGtWBRPyHdMJK96TRYSry  2916692  ...  1.255809e+09      0\n",
              "2916693  1P7PputTcVkhXBmXBvSD9MJ3UYPsiou1u2  2916693  ...  4.409699e+07      0\n",
              "2916694  1KYiKJEfdJtap9QX2v9BXJMpz2SfU4pgZw  2916694  ...  2.398267e+09      0\n",
              "2916695  15iPUJsRNZQZHmZZVwmQ63srsmughCXV4a  2916695  ...  1.780427e+08      0\n",
              "2916696  3LFFBxp15h9KSFtaw55np8eP5fv6kdK17e  2916696  ...  1.123500e+08      0\n",
              "\n",
              "[2916697 rows x 11 columns]"
            ]
          },
          "metadata": {
            "tags": []
          },
          "execution_count": 11
        }
      ]
    },
    {
      "cell_type": "code",
      "metadata": {
        "id": "s2EER2-mqRGi"
      },
      "source": [
        "X = d.iloc[:,1:-1].values\n",
        "y = d.iloc[:,-1].values"
      ],
      "execution_count": 12,
      "outputs": []
    },
    {
      "cell_type": "code",
      "metadata": {
        "id": "Z282vFKRrIX1"
      },
      "source": [
        "X_train, X_test, y_train, y_test = train_test_split(X, y, test_size=0.50, random_state=42)"
      ],
      "execution_count": 13,
      "outputs": []
    },
    {
      "cell_type": "code",
      "metadata": {
        "id": "dQnKJtPC5onI"
      },
      "source": [
        "from sklearn.neighbors import KNeighborsClassifier\r\n",
        "from sklearn.tree import DecisionTreeClassifier\r\n",
        "from joblib import dump, load"
      ],
      "execution_count": 17,
      "outputs": []
    },
    {
      "cell_type": "code",
      "metadata": {
        "id": "uu3UqtTUAD7L"
      },
      "source": [
        "def Decision_tree(X,y):\r\n",
        "  clf = DecisionTreeClassifier()\r\n",
        "  clf = clf.fit(X,y)\r\n",
        "  dump(clf, 'clf.joblib')"
      ],
      "execution_count": 18,
      "outputs": []
    },
    {
      "cell_type": "code",
      "metadata": {
        "id": "fJWvC1--5iYv"
      },
      "source": [
        "\r\n",
        "def knearestn(X,y):\r\n",
        "    knn = KNeighborsClassifier(n_neighbors=3)\r\n",
        "    knn.fit(X, y)\r\n",
        "    dump(knn, 'knn.joblib')"
      ],
      "execution_count": 32,
      "outputs": []
    },
    {
      "cell_type": "code",
      "metadata": {
        "id": "jgkUrlUJ6gpn"
      },
      "source": [
        "import multiprocessing \r\n",
        "import os\r\n",
        "from sklearn.metrics import accuracy_score"
      ],
      "execution_count": 33,
      "outputs": []
    },
    {
      "cell_type": "code",
      "metadata": {
        "colab": {
          "base_uri": "https://localhost:8080/"
        },
        "id": "WXH9rHAM6sv2",
        "outputId": "10280679-2424-408c-8f32-9d45e4022787"
      },
      "source": [
        "%%time\r\n",
        "p1 = multiprocessing.Process(target=Decision_tree, args = (X_train,y_train)) \r\n",
        "p2 = multiprocessing.Process(target=knearestn, args = (X_train,y_train)) \r\n",
        "\r\n",
        "\r\n",
        "p1.start() \r\n",
        "p2.start()  \r\n",
        " \r\n",
        "p1.join() \r\n",
        "p2.join()  \r\n"
      ],
      "execution_count": 34,
      "outputs": [
        {
          "output_type": "stream",
          "text": [
            "CPU times: user 1.62 ms, sys: 25.2 ms, total: 26.8 ms\n",
            "Wall time: 18.2 s\n"
          ],
          "name": "stdout"
        }
      ]
    },
    {
      "cell_type": "code",
      "metadata": {
        "id": "hHP3ZxzE9qjh"
      },
      "source": [
        "\r\n",
        "model = load(f'clf.joblib')\r\n",
        "model1= load(f'knn.joblib')"
      ],
      "execution_count": 40,
      "outputs": []
    },
    {
      "cell_type": "code",
      "metadata": {
        "id": "Ai3s3O0iBjCp"
      },
      "source": [
        "def test(X_test, modelname):\r\n",
        "    model = load(f'{modelname}.joblib')\r\n",
        "    return model.predict(X_test)"
      ],
      "execution_count": 46,
      "outputs": []
    },
    {
      "cell_type": "code",
      "metadata": {
        "colab": {
          "base_uri": "https://localhost:8080/"
        },
        "id": "oatRAKPC7KCJ",
        "outputId": "74619d13-03ce-46e5-ca85-76c9e05f972c"
      },
      "source": [
        "%%time\r\n",
        "pool = multiprocessing.Pool(processes=2)\r\n",
        "\r\n",
        "l1 = X_test, \"clf\"\r\n",
        "l2 = X_test, \"knn\"\r\n",
        "\r\n",
        "result = pool.starmap(test,[l1,l2])\r\n",
        "\r\n"
      ],
      "execution_count": 52,
      "outputs": [
        {
          "output_type": "stream",
          "text": [
            "CPU times: user 439 ms, sys: 1.43 s, total: 1.86 s\n",
            "Wall time: 1min 5s\n"
          ],
          "name": "stdout"
        }
      ]
    },
    {
      "cell_type": "code",
      "metadata": {
        "colab": {
          "base_uri": "https://localhost:8080/"
        },
        "id": "0Z5KN8vH-dkl",
        "outputId": "ecb93917-cc0c-4e38-9a19-7dff96a86187"
      },
      "source": [
        "avg = (result[0] + result[1])//2\r\n",
        "print('Testing Accuracy:', accuracy_score(y_test, avg))"
      ],
      "execution_count": 50,
      "outputs": [
        {
          "output_type": "stream",
          "text": [
            "Testing Accuracy: 0.9982034478715315\n"
          ],
          "name": "stdout"
        }
      ]
    },
    {
      "cell_type": "code",
      "metadata": {
        "id": "3gh8FrhlCslT"
      },
      "source": [],
      "execution_count": null,
      "outputs": []
    }
  ]
}